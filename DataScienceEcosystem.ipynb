{
  "metadata": {
    "kernelspec": {
      "name": "python",
      "display_name": "Python (Pyodide)",
      "language": "python"
    },
    "language_info": {
      "codemirror_mode": {
        "name": "python",
        "version": 3
      },
      "file_extension": ".py",
      "mimetype": "text/x-python",
      "name": "python",
      "nbconvert_exporter": "python",
      "pygments_lexer": "ipython3",
      "version": "3.8"
    }
  },
  "nbformat_minor": 5,
  "nbformat": 4,
  "cells": [
    {
      "id": "b75d13ee-258d-49ee-9f80-87fc025a32a7",
      "cell_type": "markdown",
      "source": "# Data Science Ecosystem",
      "metadata": {}
    },
    {
      "id": "1e9018e8-42ea-453d-9263-5546948061f3",
      "cell_type": "markdown",
      "source": "In this notebook, Data Science Tools and Ecosystem are summarized.",
      "metadata": {}
    },
    {
      "id": "cd4cf7e1-0b01-4647-a6f6-48585a49266c",
      "cell_type": "markdown",
      "source": "Objectives:\n* List of Popular Languages used in Data Science \n+ List of Libraries used \n- Artihmetic expressions ",
      "metadata": {}
    },
    {
      "id": "0be9b99c-f2d6-4057-bdac-0c15f5b8cbf9",
      "cell_type": "markdown",
      "source": "Some of the popular languages that Data Scientists use are:\n1. Phyton\n2. Julia\n3. SQL",
      "metadata": {}
    },
    {
      "id": "c2b421e0-c7eb-4686-9384-311423002830",
      "cell_type": "markdown",
      "source": "Some of the commonly used libraries used by Data Scientists include:\n1. Pandas \n2. Matplotlib\n3. NumPy",
      "metadata": {}
    },
    {
      "id": "4e8b62dd-522d-40c8-9dbb-0626ae41cda7",
      "cell_type": "markdown",
      "source": "|Data Science Tools|\n|------------------|\n|RStudio|\n|Apache Spark|\n|Apache Hadoop|\n\n",
      "metadata": {}
    },
    {
      "id": "73d74a69-4a9d-4197-861f-e6c30df32929",
      "cell_type": "markdown",
      "source": "### Below are a few examples of evaluating arithmetic expressions in Python",
      "metadata": {}
    },
    {
      "id": "0577071f-f17f-4f87-b770-762fc2b1c10c",
      "cell_type": "markdown",
      "source": "This a simple arithmetic expression to multiply and then add integers",
      "metadata": {}
    },
    {
      "id": "87b26487-0057-47af-8cc1-16986d026f39",
      "cell_type": "code",
      "source": "(3*4)+5",
      "metadata": {
        "trusted": true
      },
      "outputs": [
        {
          "execution_count": 7,
          "output_type": "execute_result",
          "data": {
            "text/plain": "17"
          },
          "metadata": {}
        }
      ],
      "execution_count": 7
    },
    {
      "id": "d4cb1ebb-baff-45fb-88e5-7f68cfb7ee0c",
      "cell_type": "markdown",
      "source": "This will convert 200 minutes to hours by diving by 60",
      "metadata": {}
    },
    {
      "id": "8c87fb5f-56be-4502-a497-2db061c5dfdc",
      "cell_type": "code",
      "source": "200//60",
      "metadata": {
        "trusted": true
      },
      "outputs": [
        {
          "execution_count": 14,
          "output_type": "execute_result",
          "data": {
            "text/plain": "3"
          },
          "metadata": {}
        }
      ],
      "execution_count": 14
    },
    {
      "id": "048b179b-ebeb-4a52-bf9f-16c03f0794c3",
      "cell_type": "markdown",
      "source": "## Author \nGiulia Torres ",
      "metadata": {}
    },
    {
      "id": "440d7155-5a21-4832-8c9b-d915494ff73c",
      "cell_type": "code",
      "source": "",
      "metadata": {
        "trusted": true
      },
      "outputs": [],
      "execution_count": null
    }
  ]
}